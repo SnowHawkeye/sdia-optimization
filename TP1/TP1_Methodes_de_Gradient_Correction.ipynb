{
 "cells": [
  {
   "cell_type": "markdown",
   "source": [
    "# L'algorithme de descente de gradient "
   ],
   "metadata": {}
  },
  {
   "cell_type": "markdown",
   "source": [
    "## 1. Le cas d'une fonctionnelle quadratique\n",
    " \n",
    "Tout d'abord, nous appliquons la méthode à une fonctionnelle quadratique :\n",
    "\\begin{align}\\label{quadf}\\tag{1} f(x)=\\dfrac12 x^TA x + b^T x +c,\\qquad \\text{pour } x\\in \\mathbb{R}^ N, \\end{align}\n",
    "avec\n",
    "$A$ une matrice réelle $N\\times N$, symétrique définie positive, $b\\in\\mathbb{R}^N$ et $c\\in \\mathbb{R}$. "
   ],
   "metadata": {}
  },
  {
   "cell_type": "markdown",
   "source": [
    "**Question 1.** Calculez le gradient et la matrice Hessienne de $f$.\n",
    "\n",
    "**Question 2.** Que pouvez-vous en déduire sur la nature de $f$ ?\n",
    "\n",
    "**Question 3.** Montrez que $f$ atteint son minimum sur $\\mathbb{R}^N$ en un seul point $x^*$. Donnez une caractérisation de ce point. "
   ],
   "metadata": {}
  },
  {
   "cell_type": "markdown",
   "source": [
    "### 1.1 L'algorithme de descente de gradient à pas optimal\n",
    "\n",
    "Soit $f$ une fonction convexe et coercive de classe $C^1$ sur $\\mathbb{R}^N$. L'algorithme de descente de gradient à pas optimal est défini comme suit. \n",
    "\n",
    "Soit $x^0\\in \\mathbb{R}^N$ (on essaie de choisir $x^0$ proche de $x^*$, en l'absence d'indication alors on prend $x^0=0$). \n",
    "\n",
    "Ensuite, pour $k=0,1,2,\\ldots\\ $ jusqu'à convergence, répéter : \n",
    "\n",
    "$$\n",
    "\\left|\n",
    "\\begin{array}{lcl}\n",
    "d^k& \\longleftarrow & -\\nabla f(x^k),\\\\\n",
    "\\tau^k &\\longleftarrow &\\mathop{argmin}_{t>0} f(x^k + td^k),\\\\ \n",
    "x^{k+1}&\\longleftarrow &x^k+\\tau^k d^k\n",
    "\\end{array}\n",
    "\\right.\n",
    "$$"
   ],
   "metadata": {}
  },
  {
   "cell_type": "markdown",
   "source": [
    "**Question 4.** Proposez un critère d'arrêt pour l'algorithme qui utilise la caractérisation de la question **3**. "
   ],
   "metadata": {}
  },
  {
   "cell_type": "markdown",
   "source": [
    "*Remarque :** En général, on ne sait pas calculer $\\tau^k$ et en pratique, la deuxième étape est remplacée par une recherche approchée. Cependant, lorsque $f$ est quadratique, le calcul de $\\tau^k$ est facile. "
   ],
   "metadata": {}
  },
  {
   "cell_type": "markdown",
   "source": [
    "**Question 5.** Dans le cas de la fonction quadratique (1), explicitez $d^k$ et $\\tau^k$ comme fonctions de $A$, $x^k$ et $b$. "
   ],
   "metadata": {}
  },
  {
   "cell_type": "markdown",
   "source": [
    "\n"
   ],
   "metadata": {}
  },
  {
   "cell_type": "markdown",
   "source": [
    "Maintenant, nous spécifions $N=2$ et\n",
    "$$ A=\\binom{C\\quad 0}{0\\quad 1},\\quad C\\ge 1,\\quad b=0,\\quad c=0.$$\n",
    "**Question 6.** Quel est l'infimum de $f$ sur $\\mathbb{R}^2$ dans ce cas ? Donner $x^*$. "
   ],
   "metadata": {}
  },
  {
   "cell_type": "markdown",
   "source": [
    "**Question 7.** Deux fonctions sont données ci-dessous :\n",
    "- une fonction qui dessine un champ de facteur donné par une application $F$. À titre d'exemple, il est appliqué à l'application $G(x,y)=(x, 25y)$.\n",
    "- une fonction qui dessine quelques lignes de niveau d'une fonction $f$. Il est appliqué à $g(x,y)=\\dfrac{x^2+25x^2}2$. Notez que $G=\\nabla g$. Qu'observez-vous ? "
   ],
   "metadata": {}
  },
  {
   "cell_type": "code",
   "execution_count": null,
   "source": [
    "import numpy as np\r\n",
    "import matplotlib.pyplot as plt \r\n",
    "\r\n",
    "def draw_vector_field(F, xmin, xmax, ymin, ymax, N=15):\r\n",
    "    X = np.linspace(xmin, xmax, N)  # x coordinates of the grid points\r\n",
    "    Y = np.linspace(ymin, ymax, N)  # y coordinates of the grid points\r\n",
    "    U, V = F(*np.meshgrid(X, Y))  # vector field\r\n",
    "    M = np.hypot(U, V)  # compute the norm of (U,V)\r\n",
    "    M[M == 0] = 1  # avoid division by 0\r\n",
    "    U /= M  # normalize the u componant\r\n",
    "    V /= M  # normalize the v componant\r\n",
    "    return plt.quiver(X, Y, U, V, angles='xy')\r\n",
    "\r\n",
    "def level_lines(f, xmin, xmax, ymin, ymax, levels, N=500):\r\n",
    "    x = np.linspace(xmin, xmax, N)\r\n",
    "    y = np.linspace(ymin, ymax, N)\r\n",
    "    z = f(*np.meshgrid(x, y))\r\n",
    "    level_l = plt.contour(x, y, z, levels=levels)\r\n",
    "    #plt.clabel(level_l, levels, fmt='%.1f') \r\n",
    "\r\n",
    "\r\n",
    "g = lambda x, y: .5*(x**2 + 12*y**2)\r\n",
    "G = lambda x, y: np.array([x, 12*y])\r\n",
    "%matplotlib inline\r\n",
    "plt.figure(figsize=(12,6))\r\n",
    "level_lines(g, -8, 8, -2.1, 2.1, np.linspace(0, 25, 5))\r\n",
    "draw_vector_field(G,  -8, 8, -2.1, 2.1, 10)\r\n",
    "plt.axis('equal')\r\n",
    "plt.show()"
   ],
   "outputs": [],
   "metadata": {}
  },
  {
   "cell_type": "markdown",
   "source": [
    "**Question 8.** Implémentez l'algorithme de descente de gradient à pas optimal. Le point initial doit être $x^0=\\binom1C$.\n",
    "\n",
    "**Question 9.** Sur le même graphique, représentez les itérations, quelques lignes de niveau de $f$ et le champ de vecteur normalisé $\\dfrac {1}{|\\nabla f|}\\nabla f$. "
   ],
   "metadata": {}
  },
  {
   "cell_type": "markdown",
   "source": [
    "**Question 10.** Changer la valeur de $C$ de 1 à 32 ($C=1,2,4,8,16,32$). Qu'observez-vous ?\n",
    "\n",
    "**Question 11.** Tracez le nombre d'itérations de la méthode en fonction de $C$. Faites une hypothèse. "
   ],
   "metadata": {}
  },
  {
   "cell_type": "code",
   "execution_count": null,
   "source": [
    "## initialisation\r\n",
    "make_f = lambda c: lambda x, y=1: .5*(c*x**2 + y**2)\r\n",
    "make_df = lambda c: lambda x, y : np.array([c*x, y])\r\n",
    "\r\n",
    "tab_C=(1,2,4,8,16,32)\r\n",
    "tab_niter=np.zeros(6)\r\n",
    "\r\n",
    "epsilon = 1e-8  #tolérance sur l'erreur\r\n",
    "\r\n",
    "for j in range(6):\r\n",
    "    ## initialisations\r\n",
    "    C = tab_C[j]\r\n",
    "    f, df = make_f(C), make_df(C)\r\n",
    "    x, y = 1., C \r\n",
    "    X = [np.array([x,y])] # array for the values of $x^k$\r\n",
    "    F = [f(x,y)] # array for the values of $f(x^k)$\r\n",
    "    niter =0\r\n",
    "    \r\n",
    "    ## Boucle d'optimisation \r\n",
    "    while(True):\r\n",
    "        dx,dy = -df(x,y)    # calcule de d^k  \r\n",
    "        normd = np.hypot(dx,dy)\r\n",
    "        if normd<epsilon:   # test du critère darrêt\r\n",
    "            break\r\n",
    "        t = normd**2/(C*dx**2 + dy**2)  # calcul du pas optimal\r\n",
    "        x, y = x + t*dx, y + t*dy       # nouvel itéré\r\n",
    "        niter += 1 \r\n",
    "        X.append(np.array([x,y]))\r\n",
    "        F.append(f(x,y))\r\n",
    "    tab_niter[j]=niter\r\n",
    "    \r\n",
    "    ## représentations graphiques         \r\n",
    "    X = np.array(X)\r\n",
    "    F = np.array(F)\r\n",
    "   \r\n",
    "    plt.figure()\r\n",
    "    plt.plot(X[:,0],X[:,1],'.',linestyle='-')\r\n",
    "    level_lines(f, -2.1, 2.1, 0, C, np.linspace(0, .5*C**2, 10))\r\n",
    "    #draw_vector_field(df, C,  -2.1, 2.1, 0, C, 20)\r\n",
    "    plt.axis('equal')\r\n",
    "    plt.title(\"C=\"+str(C))\r\n",
    "\r\n",
    "    # plot of the values of f along the iterations.\r\n",
    "    plt.figure()\r\n",
    "    plt.semilogy(range(len(F)),F,'.',linestyle='dashed')\r\n",
    "    plt.show()\r\n",
    "\r\n",
    "plt.figure()\r\n",
    "plt.plot(tab_C,tab_niter,'.')\r\n",
    "plt.title(\"Nombre d'itérations en fonction de C\")\r\n",
    "plt.show()"
   ],
   "outputs": [],
   "metadata": {}
  },
  {
   "cell_type": "markdown",
   "source": [
    "\n"
   ],
   "metadata": {}
  },
  {
   "cell_type": "markdown",
   "source": [
    "## 2. Le cas d'une fonction convexe régulière, line search. "
   ],
   "metadata": {}
  },
  {
   "cell_type": "markdown",
   "source": [
    "On considère la fonction définie par\n",
    "$$\n",
    "f(x,y):= \\cosh(x) + \\sin^2(x+y),\\qquad \\text{pour }z=(x,y)\\in \\mathbb{R}^2.\n",
    "$$"
   ],
   "metadata": {}
  },
  {
   "cell_type": "markdown",
   "source": [
    "**Question 12.** Montrer que $f$ est convexe au voisinage de $z^0_*$."
   ],
   "metadata": {}
  },
  {
   "cell_type": "markdown",
   "source": [
    "Nous allons appliquer un algorithme de descente de gradient avec ``line search'' à la fonction $f$. Plus précisément :\n",
    "\n",
    "Étant donné  $z^0=(x^0,y^0)\\in\\mathbb{R}^2$, calculer de manière récursive, jusqu'à convergence,\n",
    "\n",
    "$$\n",
    "\\left|\n",
    "\\begin{array}{lcl}\n",
    "d^k& \\longleftarrow & -\\nabla f(z^k),\\\\\n",
    "\\tau^k &\\longleftarrow & \\text{Line-search}\\ \\left(\\ t\\mapsto f(z^k + td^k)\\ \\right),\\\\ \n",
    "z^{k+1}&\\longleftarrow &z^k+\\tau^k d^k\n",
    "\\end{array}\n",
    "\\right.\n",
    "$$"
   ],
   "metadata": {}
  },
  {
   "cell_type": "markdown",
   "source": [
    "Précisons la deuxième étape. On remarque d'abord que pour $t>0$,\n",
    "\n",
    "$$\n",
    "f(z^k+t d^k) \\,=\\, f(z^k) -t \\|d^k\\|^2 +o(t).\n",
    "$$\n",
    "\n",
    "En fait, si $f$ est convexe au voisinage de $z^k$, on a aussi pour $t>0$ assez petit, \n",
    "\n",
    "$$\n",
    "f(z^k+t d^k)\\, \\ge\\, f(z^k) -t \\|d^k\\|^2,\n",
    "$$\n",
    "\n",
    "donc on ne peut pas demander $f(z^k+t d^k) \\,\\le\\, f(z^k) -t \\|d^k\\|^2$. \n",
    "\n",
    "L'idée de la *condition Armijo* est de demander un peu moins. Fixons un $\\alpha\\in (0,1)$ : la condition Armijo s'écrit : \n",
    "\n",
    "$$\n",
    "\\tag{2}f(z^k+t d^k)\\, \\le\\, f(z^k) -\\alpha\\, t \\|d^k\\|^2.\n",
    "$$\n",
    "\n",
    "En utilisant le développement limité ci dessus, on a \n",
    "\n",
    "$$\n",
    "\\begin{array}{rcl}\n",
    "f(z^k+t d^k) &=& f(z^k) -t \\|d^k\\|^2 +o(t)\\\\\n",
    "   &=& f(z^k) -\\alpha\\, t \\|d^k\\|^2 - (1-\\alpha)t\\|d^k\\|^2 +o(t)\\\\\n",
    "   & = & f(z^k) -\\alpha\\, t \\|d^k\\|^2 -t \\left[(1-\\alpha)\\|d^k\\|^2 +o(1)\\right]\n",
    "\\end{array}\n",
    "$$\n",
    "\n",
    "Pour $t>0$ assez petit, le terme entre crochet est positif et donc (2) est vrai.\n",
    "\n",
    "Nous ne voulons pourtant pas choisir un $\\tau^k$ trop petit (l'algorithme calerait). Pour éviter cela, nous fixons un pas maximal $\\tau_0$ et un facteur $\\beta\\in(0,1)$ et nous testons successivement (2) avec $t=\\tau_0$, $t=\\tau_0\\beta$, $t=\\tau_0\\beta^2$, ... \n",
    "\n",
    "On choisi $\\tau^k=\\tau_0\\beta^j$ où $j$ est le premier entier tel que $t=\\tau_0\\beta^j$ vérifie (2).\n",
    "\n",
    "Remarquez que comme $0<\\beta<1$, cet entier existe. "
   ],
   "metadata": {}
  },
  {
   "cell_type": "markdown",
   "source": [
    "**Question 13.** Implémentez la méthode ci-dessus, avec $\\alpha=0.5$, $\\beta=0.75$. Commencez par $z^0=(1,0.5)$ et $\\tau_0=1$. Ensuite, pour $k\\ge 1$ utilisez $\\tau_0\\leftarrow\\tau^0/\\beta$.\n",
    "\n",
    "Tout d'abord pour vous aider, la cellule suivante montre quelques ensembles de niveaux de $f$ et le champ de vecteur normalisé $\\dfrac {1}{|\\nabla f|}\\nabla f$ au voisinage de $z^*$. "
   ],
   "metadata": {}
  },
  {
   "cell_type": "code",
   "execution_count": null,
   "source": [
    "def draw_vector_field_2(F, xmin, xmax, ymin, ymax, N=15):\r\n",
    "    X = np.linspace(xmin, xmax, N)  # x coordinates of the grid points\r\n",
    "    Y = np.linspace(ymin, ymax, N)  # y coordinates of the grid points\r\n",
    "    U, V = F(*np.meshgrid(X, Y))  # vector field\r\n",
    "    M = np.hypot(U, V)  # compute the norm of (U,V)\r\n",
    "    M[M == 0] = 1  # avoid division by 0\r\n",
    "    U /= M  # normalize the u componant\r\n",
    "    V /= M  # normalize the v componant\r\n",
    "    return plt.quiver(X, Y, U, V, angles='xy')\r\n",
    "\r\n",
    "def level_lines_2(f, xmin, xmax, ymin, ymax, levels, N=500):\r\n",
    "    x = np.linspace(xmin, xmax, N)\r\n",
    "    y = np.linspace(ymin, ymax, N)\r\n",
    "    z = f(*np.meshgrid(x, y))\r\n",
    "    level_l = plt.contour(x, y, z, levels=levels)\r\n",
    "    #plt.clabel(level_l, levels, fmt='%.1f') \r\n",
    "\r\n",
    "f = lambda x, y : np.cosh(x)+ np.sin(x + y)**2\r\n",
    "df = lambda x, y : np.array([np.sinh(x) + 2*np.cos(x + y)*np.sin(x + y), 2*np.cos(x + y)*np.sin(x + y)])\r\n",
    "%matplotlib inline\r\n",
    "plt.figure(figsize=(9,6))\r\n",
    "level_lines_2(f, -1.1, 1.1, -1.1, 1.1, np.linspace(1, 3, 10))\r\n",
    "draw_vector_field_2(df, -1.1, 1.1, -1.1, 1.1, 10)\r\n",
    "plt.axis('equal')\r\n",
    "plt.show()"
   ],
   "outputs": [],
   "metadata": {}
  },
  {
   "cell_type": "code",
   "execution_count": null,
   "source": [
    "## Parametres\r\n",
    "epsilon = 1e-6\r\n",
    "alpha, beta = 0.5, 0.75\r\n",
    "itermax = 200\r\n",
    "iter_ls_max = 20\r\n",
    "## initialisation \r\n",
    "iter = 0\r\n",
    "x, y, t = 1., .5, 1. \r\n",
    "fz = f(x,y)\r\n",
    "Z, F =[np.array([x, y])], [fz]\r\n",
    "flag = 'OK'\r\n",
    "\r\n",
    "## Boucle d'optimisation\r\n",
    "while (iter < itermax):\r\n",
    "    dx, dy = -df(x, y)\r\n",
    "    d = np.hypot(dx, dy)\r\n",
    "    if d < epsilon or flag == 'Not OK':\r\n",
    "        break\r\n",
    "    dd =d**2\r\n",
    "    new_fz = f(x + t*dx, y + t*dy) \r\n",
    "    iter_ls = 0\r\n",
    "    while (new_fz - fz + alpha*t*dd >=0):\r\n",
    "        t=beta*t\r\n",
    "        new_fz = f(x + t*dx, y + t*dy)\r\n",
    "        iter_ls += 1\r\n",
    "        if (iter_ls>=iter_ls_max):\r\n",
    "            flag = 'Not OK'\r\n",
    "            break\r\n",
    "    #print(\"d = \" + str(d) + \", f(z) - 1 =\" + str(fz-1) + \", t= \" +str(t))\r\n",
    "    x, y, fz = x + t*dx, y + t*dy, new_fz\r\n",
    "    Z.append(np.array([x, y]))\r\n",
    "    F.append(fz)\r\n",
    "    t = t/beta\r\n",
    "    iter += 1\r\n",
    "\r\n",
    "print('flag = '+flag + ', n_iter = ' + str(iter))    \r\n",
    "    \r\n",
    "Z = np.array(Z)\r\n",
    "F = np.array(F)\r\n",
    "\r\n",
    "# représentations graphiques \r\n",
    "plt.figure(figsize=(9,6))\r\n",
    "plt.plot(Z[:,0],Z[:,1],'.',linestyle='-')\r\n",
    "level_lines_2(f, -0.5, 1.1, -0.1, 0.55, np.linspace(1, 3, 10))\r\n",
    "draw_vector_field_2(df, -0.5, 1.1, -0.1, 0.55, 10)\r\n",
    "plt.axis('equal')\r\n",
    "plt.show()\r\n",
    "\r\n",
    "# Représentation des valeurs prises par f au cours des itérations.\r\n",
    "plt.figure(figsize=(9,6))\r\n",
    "plt.semilogy(range(len(F)),F-1,'.',linestyle='dashed')\r\n",
    "plt.show()\r\n",
    "\r\n",
    "print(\"nbre d'itérations :\", iter)"
   ],
   "outputs": [],
   "metadata": {}
  },
  {
   "cell_type": "markdown",
   "source": [
    "On considère maintenant la fonction définie sur $\\mathbb{R}^3$ par \n",
    "$$\n",
    "f(x,y,z):= \\cosh(x) + \\sin^2(x+y) + (y-z)^2,\\qquad \\text{pour }w=(x,y,z)\\in \\mathbb{R}^2.\n",
    "$$"
   ],
   "metadata": {}
  },
  {
   "cell_type": "markdown",
   "source": [
    "**Question 14.** Appliquez la méthode d'optimisation ci-dessus à cette fonction, en commençant par $w^0=(1,0.5,1)$. "
   ],
   "metadata": {}
  },
  {
   "cell_type": "code",
   "execution_count": null,
   "source": [
    "f = lambda w : np.cosh(w[0])+ np.sin(w[0] + w[1])**2 + (w[1] - w[2])**2\r\n",
    "df = lambda w : np.array([np.sinh(w[0]) + 2*np.cos(w[0] + w[1])*np.sin(w[0] + w[1]), \r\n",
    "                                2*np.cos(w[0] + w[1])*np.sin(w[0] + w[1]) + 2*(w[1] - w[2]),  2*(w[2] - w[1])])\r\n",
    "\r\n",
    "## Paramètres\r\n",
    "epsilon = 1e-6\r\n",
    "alpha, beta = 0.5, 0.75\r\n",
    "itermax = 200\r\n",
    "iter_ls_max =30\r\n",
    "\r\n",
    "## initialisation \r\n",
    "iter = 0\r\n",
    "w, t = np.array([1., .5, 4.]) , 1.\r\n",
    "fw = f(w)\r\n",
    "W, F =[w], [fw]\r\n",
    "flag = 'OK'\r\n",
    "\r\n",
    "## Boucle d'optmization\r\n",
    "while (iter < itermax):\r\n",
    "    d = -df(w)\r\n",
    "    norm_d = np.linalg.norm(d)\r\n",
    "    if norm_d < epsilon or flag == 'Not OK':\r\n",
    "        break\r\n",
    "    dd =norm_d**2\r\n",
    "    new_fw = f(w + t*d)\r\n",
    "    iter_ls = 0\r\n",
    "    while (new_fw - fw + alpha*t*dd >=0):\r\n",
    "        t = beta*t\r\n",
    "        new_fw = f(w + t*d) \r\n",
    "        iter_ls += 1\r\n",
    "        if (iter_ls>=iter_ls_max):\r\n",
    "            flag = 'Not OK'\r\n",
    "            break\r\n",
    "    #print(\"norm_d = \" + str(norm_d) + \", f(w) - 1 =\" + str(fw-1) + \", t= \" +str(t))\r\n",
    "    w, fw, t = w + t*d, new_fw, t/beta\r\n",
    "    W.append(w)\r\n",
    "    F.append(fw)\r\n",
    "    iter += 1\r\n",
    "\r\n",
    "print('flag = '+flag + ', n_iter = ' + str(iter) + ', itermax = ' + str(itermax))   \r\n",
    "\r\n",
    "\r\n",
    "# Représentation des itérés.\r\n",
    "\r\n",
    "\r\n",
    "from mpl_toolkits.mplot3d import Axes3D\r\n",
    "\r\n",
    "W = np.array(W)\r\n",
    "x, y, z = W[:,0], W[:,1], W[:,2]\r\n",
    "ax = Axes3D(plt.figure())  # Define the 3D plot\r\n",
    "ax.set(xlabel=r'$x$', ylabel=r'$y$', zlabel=r'$z$')\r\n",
    "ax.plot(x, y, z,'.')  # Plot of the trajectory\r\n",
    "plt.show()\r\n",
    "\r\n",
    "\r\n",
    "# Représentation des valeurs prises par f au cours des itérations\r\n",
    "F = np.array(F)\r\n",
    "plt.figure()\r\n",
    "plt.semilogy(range(len(F)), F-1, '.', linestyle='dashed')\r\n",
    "plt.show()"
   ],
   "outputs": [],
   "metadata": {}
  }
 ],
 "metadata": {
  "kernelspec": {
   "name": "python3",
   "display_name": "Python 3.8.11 64-bit ('sdia-python': conda)"
  },
  "language_info": {
   "codemirror_mode": {
    "name": "ipython",
    "version": 3
   },
   "file_extension": ".py",
   "mimetype": "text/x-python",
   "name": "python",
   "nbconvert_exporter": "python",
   "pygments_lexer": "ipython3",
   "version": "3.8.11"
  },
  "interpreter": {
   "hash": "47a3d19953d0682b2fed03a7de16340ad054781b6349bd7c1cab4a5c5105088a"
  }
 },
 "nbformat": 4,
 "nbformat_minor": 2
}